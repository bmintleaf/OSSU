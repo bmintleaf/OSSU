{
 "cells": [
  {
   "cell_type": "markdown",
   "metadata": {},
   "source": [
    "# Übungen Kapitel 4"
   ]
  },
  {
   "cell_type": "markdown",
   "metadata": {},
   "source": [
    "## Übung 6: \n",
    "Schreiben Sie ihr Programm zur Lohnberechnung (mit 1,4-fachem\n",
    "Stundenlohn bei Überstunden) um. Ergänzen Sie eine Funktion lohnberechnung,\n",
    "welche die beiden Parameter arbeitsstunden und stundenlohn entgegennimmt."
   ]
  },
  {
   "cell_type": "code",
   "execution_count": 5,
   "metadata": {},
   "outputs": [
    {
     "name": "stdout",
     "output_type": "stream",
     "text": [
      "Gib die Arbeitsstunden an: 45\n",
      "Gib den Stundensatz an: 10\n",
      "Zahlung: 475.0\n"
     ]
    }
   ],
   "source": [
    "a = input('Gib die Arbeitsstunden an: ')\n",
    "b = input('Gib den Stundensatz an: ')\n",
    "\n",
    "def lohnberechnung(astd, stdl):\n",
    "    hours = float(astd)\n",
    "    rate = float(stdl)\n",
    "\n",
    "    if hours > 40:\n",
    "        moreHours = hours - 40\n",
    "        morePay = moreHours * rate * 1.5\n",
    "        pay = 40 * rate + morePay\n",
    "    else:\n",
    "        pay = hours * rate\n",
    "    \n",
    "    print(f'Zahlung: {pay}')\n",
    "    \n",
    "lohnberechnung(a, b)"
   ]
  },
  {
   "cell_type": "markdown",
   "metadata": {},
   "source": [
    "## Übung 7: \n",
    "Schreiben Sie das Benotungsprogramm aus dem vorigen Kapitel neu,\n",
    "indem Sie eine Funktion namens notenberechnung verwenden, die eine Punktzahl\n",
    "als Parameter annimmt und eine Note zurückgibt."
   ]
  },
  {
   "cell_type": "code",
   "execution_count": 4,
   "metadata": {},
   "outputs": [
    {
     "name": "stdout",
     "output_type": "stream",
     "text": [
      "Gib die Punkte zwischen 0.0 und 1.0 an: 0.6\n",
      "4\n"
     ]
    }
   ],
   "source": [
    "a = input('Gib die Punkte zwischen 0.0 und 1.0 an: ')\n",
    "\n",
    "def notenberechnung(wert):\n",
    "    try:\n",
    "        wert = float(wert)\n",
    "\n",
    "        if wert > 1.0 or wert < 0.0:\n",
    "            print('Falsche Punktanzahl')\n",
    "        elif wert >= 0.9:\n",
    "            print(1)\n",
    "        elif wert >= 0.8:\n",
    "            print(2)\n",
    "        elif wert >= 0.7:\n",
    "            print(3)\n",
    "        elif wert >= 0.6:\n",
    "            print(4)\n",
    "        elif wert < 0.6:\n",
    "            print(5)\n",
    "\n",
    "    except:\n",
    "        print('Falsch Punktanzahl')\n",
    "        \n",
    "notenberechnung(a)"
   ]
  }
 ],
 "metadata": {
  "kernelspec": {
   "display_name": "Python 3",
   "language": "python",
   "name": "python3"
  },
  "language_info": {
   "codemirror_mode": {
    "name": "ipython",
    "version": 3
   },
   "file_extension": ".py",
   "mimetype": "text/x-python",
   "name": "python",
   "nbconvert_exporter": "python",
   "pygments_lexer": "ipython3",
   "version": "3.7.3"
  }
 },
 "nbformat": 4,
 "nbformat_minor": 2
}
