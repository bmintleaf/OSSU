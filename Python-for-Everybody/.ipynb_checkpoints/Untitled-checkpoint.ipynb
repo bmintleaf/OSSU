{
 "cells": [
  {
   "cell_type": "code",
   "execution_count": 46,
   "metadata": {},
   "outputs": [
    {
     "name": "stdout",
     "output_type": "stream",
     "text": [
      "Donner!!!!!\n"
     ]
    }
   ],
   "source": [
    "file = open('CA2021-03-16.csv')\n",
    "\n",
    "lst = list()\n",
    "for line in file:\n",
    "    if line.startswith('KUNDENNR'):\n",
    "        continue\n",
    "    line = line.strip()\n",
    "    lst.append(line.split(';')[2])\n",
    "    \n",
    "#print(lst)\n",
    "if 'Alemu' in lst:\n",
    "    print('Donner!!!!!')"
   ]
  }
 ],
 "metadata": {
  "kernelspec": {
   "display_name": "Python 3",
   "language": "python",
   "name": "python3"
  },
  "language_info": {
   "codemirror_mode": {
    "name": "ipython",
    "version": 3
   },
   "file_extension": ".py",
   "mimetype": "text/x-python",
   "name": "python",
   "nbconvert_exporter": "python",
   "pygments_lexer": "ipython3",
   "version": "3.7.3"
  }
 },
 "nbformat": 4,
 "nbformat_minor": 2
}
