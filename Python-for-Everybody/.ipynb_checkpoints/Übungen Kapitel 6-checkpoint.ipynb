{
 "cells": [
  {
   "cell_type": "markdown",
   "metadata": {},
   "source": [
    "# Übungen Kapitel 6"
   ]
  },
  {
   "cell_type": "markdown",
   "metadata": {},
   "source": [
    "## Übung 5: \n",
    "Nehmen Sie den folgenden Python-Code, der eine Zeichenkette speichert:"
   ]
  },
  {
   "attachments": {
    "grafik.png": {
     "image/png": "[encoded data removed]"
    }
   },
   "cell_type": "markdown",
   "metadata": {},
   "source": [
    "![grafik.png](attachment:grafik.png)"
   ]
  },
  {
   "cell_type": "markdown",
   "metadata": {},
   "source": [
    "Verwenden Sie find und String-Slicing, um den Teil der Zeichenkette nach dem\n",
    "Doppelpunkt zu extrahieren, und verwenden Sie dann die Funktion float, um die\n",
    "extrahierte Teilzeichenkette in eine Fließkommazahl zu konvertieren."
   ]
  },
  {
   "cell_type": "code",
   "execution_count": 6,
   "metadata": {},
   "outputs": [
    {
     "name": "stdout",
     "output_type": "stream",
     "text": [
      "18\n",
      "0.8475\n",
      "<class 'float'>\n"
     ]
    }
   ],
   "source": [
    "a = 'X-DSPAM-Donfidence: 0.8475'\n",
    "\n",
    "b = a.find(':')\n",
    "print(b)\n",
    "\n",
    "c = a[b+2:]\n",
    "c = float(c)\n",
    "\n",
    "print(c)\n",
    "print(type(c))"
   ]
  },
  {
   "cell_type": "markdown",
   "metadata": {},
   "source": [
    "## Übung 6: \n",
    "Lesen Sie die Dokumentation der String-Methoden unter"
   ]
  },
  {
   "cell_type": "markdown",
   "metadata": {},
   "source": [
    "https://docs.python.org/3/library/stdtypes.html#string-methods"
   ]
  },
  {
   "cell_type": "markdown",
   "metadata": {},
   "source": [
    "Vielleicht möchten Sie mit einigen von ihnen experimentieren, um sicherzustel-\n",
    "len, dass Sie verstehen, wie sie funktionieren. strip und replace sind besonders\n",
    "nützlich.\n",
    "Die Dokumentation verwendet eine Syntax, die verwirrend sein kann. Zum Beispiel\n",
    "in find(sub[, start[, end]]) zeigen die Klammern optionale Argumente an.\n",
    "Also ist sub erforderlich, aber start ist optional, und wenn Sie start verwenden,\n",
    "dann ist end wiederum optional."
   ]
  }
 ],
 "metadata": {
  "kernelspec": {
   "display_name": "Python 3",
   "language": "python",
   "name": "python3"
  },
  "language_info": {
   "codemirror_mode": {
    "name": "ipython",
    "version": 3
   },
   "file_extension": ".py",
   "mimetype": "text/x-python",
   "name": "python",
   "nbconvert_exporter": "python",
   "pygments_lexer": "ipython3",
   "version": "3.7.3"
  }
 },
 "nbformat": 4,
 "nbformat_minor": 2
}
