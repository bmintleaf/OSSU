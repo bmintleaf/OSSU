{
 "cells": [
  {
   "cell_type": "markdown",
   "metadata": {},
   "source": [
    "# Übungen Kapitel 2"
   ]
  },
  {
   "cell_type": "markdown",
   "metadata": {},
   "source": [
    "## Übung 2\n",
    "Schreiben Sie ein Programm, das mit input einen Benutzer zur Eingabe\n",
    "seines Namens auffordert und ihn dann begrüßt."
   ]
  },
  {
   "cell_type": "code",
   "execution_count": 2,
   "metadata": {},
   "outputs": [
    {
     "name": "stdout",
     "output_type": "stream",
     "text": [
      "Enter your Name: Luke\n",
      "Hello Luke!\n"
     ]
    }
   ],
   "source": [
    "name = input('Enter your Name: ')\n",
    "print(f'Hello {name}!')"
   ]
  },
  {
   "cell_type": "markdown",
   "metadata": {},
   "source": [
    "## Übung 3\n",
    "Schreiben Sie ein Programm, das den Benutzer nach Arbeitsstunden\n",
    "und Stundensatz fragt, um den Bruttolohn zu berechnen.\n",
    "\n",
    "Gib die Arbeitsstunden an: 35\n",
    "Gib den Stundensatz an: 2.75\n",
    "Zahlung: 96.25"
   ]
  },
  {
   "cell_type": "code",
   "execution_count": 15,
   "metadata": {},
   "outputs": [
    {
     "name": "stdout",
     "output_type": "stream",
     "text": [
      "Gib die Arbeitsstunden an: 35\n",
      "Gib den Stundensatz an: 2.75\n",
      "Zahlung: 96.25\n"
     ]
    }
   ],
   "source": [
    "hours = input('Gib die Arbeitsstunden an: ')\n",
    "rate = input('Gib den Stundensatz an: ')\n",
    "hours = float(hours)\n",
    "rate = float(rate)\n",
    "print('Zahlung:', hours * rate)"
   ]
  },
  {
   "cell_type": "markdown",
   "metadata": {},
   "source": [
    "## Übung 5\n",
    "Schreiben Sie ein Programm, das den Benutzer zur Eingabe einer\n",
    "Celsius-Temperatur auffordert, die Temperatur in Fahrenheit konvertiert und die\n",
    "konvertierte Temperatur ausgibt.\n",
    "\n",
    "Die Umrechnung von Celsius zu Fahrenheit lautet: °F = °C * 1,8 + 32"
   ]
  },
  {
   "cell_type": "code",
   "execution_count": 26,
   "metadata": {},
   "outputs": [
    {
     "name": "stdout",
     "output_type": "stream",
     "text": [
      "Gib die Temperatur in °C an: 10\n",
      "Die angegebene Temperatur in °F ist: 50.0\n"
     ]
    }
   ],
   "source": [
    "cTemp = input('Gib die Temperatur in °C an: ')\n",
    "cTemp = float(cTemp)\n",
    "fTemp = cTemp * 1.8 + 32\n",
    "print(f'Die angegebene Temperatur in °F ist: {fTemp}')"
   ]
  }
 ],
 "metadata": {
  "kernelspec": {
   "display_name": "Python 3",
   "language": "python",
   "name": "python3"
  },
  "language_info": {
   "codemirror_mode": {
    "name": "ipython",
    "version": 3
   },
   "file_extension": ".py",
   "mimetype": "text/x-python",
   "name": "python",
   "nbconvert_exporter": "python",
   "pygments_lexer": "ipython3",
   "version": "3.7.3"
  }
 },
 "nbformat": 4,
 "nbformat_minor": 2
}
