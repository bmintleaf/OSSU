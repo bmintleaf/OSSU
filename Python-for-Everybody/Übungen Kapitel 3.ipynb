{
 "cells": [
  {
   "cell_type": "markdown",
   "metadata": {},
   "source": [
    "# Übungen Kapitel 3"
   ]
  },
  {
   "cell_type": "markdown",
   "metadata": {},
   "source": [
    "## Übung 1\n",
    "Schreiben Sie Ihr Programm zur Lohnberechnung so um, dass ein\n",
    "Mitarbeiter das 1,5-fache des Stundensatzes für Arbeitsstunden über 40 Stunden\n",
    "erhält.\n",
    "\n",
    "Anzahl Arbeitsstunden: 45\n",
    "Stundenlohn: 10\n",
    "Monatsgehalt: 475.0"
   ]
  },
  {
   "cell_type": "code",
   "execution_count": 3,
   "metadata": {},
   "outputs": [
    {
     "name": "stdout",
     "output_type": "stream",
     "text": [
      "Gib die Arbeitsstunden an: 45\n",
      "Gib den Stundensatz an: 10\n",
      "Zahlung: 475.0\n"
     ]
    }
   ],
   "source": [
    "hours = input('Gib die Arbeitsstunden an: ')\n",
    "rate = input('Gib den Stundensatz an: ')\n",
    "hours = float(hours)\n",
    "rate = float(rate)\n",
    "\n",
    "if hours > 40:\n",
    "    moreHours = hours - 40\n",
    "    morePay = moreHours * rate * 1.5\n",
    "    pay = 40 * rate + morePay\n",
    "else:\n",
    "    pay = hours * rate\n",
    "    \n",
    "print(f'Zahlung: {pay}')"
   ]
  },
  {
   "cell_type": "markdown",
   "metadata": {},
   "source": [
    "## Übung 2\n",
    "Schreiben Sie Ihr Programm zur Lohnberechnung unter Verwendung von\n",
    "try und except so um, dass Ihr es nichtnumerische Eingaben elegant behandelt,\n",
    "indem es eine Meldung ausgibt und das Programm beendet. Im Folgenden sehen\n",
    "Sie zwei beispielhafte Ausführungen des Programms:\n",
    "\n",
    "Anzahl Arbeitsstunden: 20\n",
    "Stundenlohn: neun\n",
    "Fehler, bitte gib eine Zahl ein\n",
    "\n",
    "Anzahl Arbeitsstunden: vierzig\n",
    "Fehler, bitte gib eine Zahl ein"
   ]
  },
  {
   "cell_type": "code",
   "execution_count": 12,
   "metadata": {},
   "outputs": [
    {
     "name": "stdout",
     "output_type": "stream",
     "text": [
      "Gib die Arbeitsstunden an: vierzig\n",
      "Gib den Stundensatz an: 9\n",
      "Fehler, bitte gib eine Zahl ein\n"
     ]
    }
   ],
   "source": [
    "hours = input('Gib die Arbeitsstunden an: ')\n",
    "rate = input('Gib den Stundensatz an: ')\n",
    "try:\n",
    "    hours = float(hours)\n",
    "    rate = float(rate)\n",
    "    \n",
    "    if hours > 40:\n",
    "        moreHours = hours - 40\n",
    "        morePay = moreHours * rate * 1.5\n",
    "        pay = 40 * rate + morePay\n",
    "    else:\n",
    "        pay = hours * rate\n",
    "    \n",
    "    print(f'Zahlung: {pay}')\n",
    "\n",
    "except:\n",
    "    print('Fehler, bitte gib eine Zahl ein')\n",
    "\n"
   ]
  },
  {
   "cell_type": "markdown",
   "metadata": {},
   "source": [
    "## Übung 3\n",
    "Schreiben Sie ein Programm, das nach einem Wert zwischen 0,0 und\n",
    "1,0 fragt. Wenn die Punktzahl außerhalb des Bereichs liegt, geben Sie eine Fehler-\n",
    "meldung aus. Wenn die Punktzahl zwischen 0,0 und 1,0 liegt, geben Sie eine Note\n",
    "anhand der folgenden Tabelle aus:"
   ]
  },
  {
   "cell_type": "code",
   "execution_count": 23,
   "metadata": {},
   "outputs": [
    {
     "name": "stdout",
     "output_type": "stream",
     "text": [
      "Gib die Punkte zwischen 0.0 und 1.0 an: 0.5\n",
      "5\n"
     ]
    }
   ],
   "source": [
    "wert = input('Gib die Punkte zwischen 0.0 und 1.0 an: ')\n",
    "try:\n",
    "    wert = float(wert)\n",
    "    \n",
    "    if wert > 1.0 or wert < 0.0:\n",
    "        print('Falsche Punktanzahl')\n",
    "    elif wert >= 0.9:\n",
    "        print(1)\n",
    "    elif wert >= 0.8:\n",
    "        print(2)\n",
    "    elif wert >= 0.7:\n",
    "        print(3)\n",
    "    elif wert >= 0.6:\n",
    "        print(4)\n",
    "    elif wert < 0.6:\n",
    "        print(5)\n",
    "        \n",
    "except:\n",
    "    print('Falsch Punktanzahl')"
   ]
  }
 ],
 "metadata": {
  "kernelspec": {
   "display_name": "Python 3",
   "language": "python",
   "name": "python3"
  },
  "language_info": {
   "codemirror_mode": {
    "name": "ipython",
    "version": 3
   },
   "file_extension": ".py",
   "mimetype": "text/x-python",
   "name": "python",
   "nbconvert_exporter": "python",
   "pygments_lexer": "ipython3",
   "version": "3.7.3"
  }
 },
 "nbformat": 4,
 "nbformat_minor": 2
}
